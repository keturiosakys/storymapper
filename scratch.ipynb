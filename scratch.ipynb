{
 "cells": [
  {
   "cell_type": "code",
   "execution_count": 1,
   "metadata": {},
   "outputs": [],
   "source": [
    "import spacy\n",
    "import json"
   ]
  },
  {
   "cell_type": "code",
   "execution_count": 2,
   "metadata": {},
   "outputs": [
    {
     "ename": "OSError",
     "evalue": "[E053] Could not read meta.json from en_core_web_sm-3.7.0-py3-none-any.whl",
     "output_type": "error",
     "traceback": [
      "\u001b[0;31m---------------------------------------------------------------------------\u001b[0m",
      "\u001b[0;31mOSError\u001b[0m                                   Traceback (most recent call last)",
      "\u001b[1;32m/Users/laurynas-fp/Code/keturiosakys/structured-dtl/scratch.ipynb Cell 2\u001b[0m line \u001b[0;36m1\n\u001b[0;32m----> <a href='vscode-notebook-cell:/Users/laurynas-fp/Code/keturiosakys/structured-dtl/scratch.ipynb#W2sZmlsZQ%3D%3D?line=0'>1</a>\u001b[0m NLP \u001b[39m=\u001b[39m spacy\u001b[39m.\u001b[39;49mload(\u001b[39m\"\u001b[39;49m\u001b[39m./en_core_web_sm-3.7.0-py3-none-any.whl\u001b[39;49m\u001b[39m\"\u001b[39;49m)\n\u001b[1;32m      <a href='vscode-notebook-cell:/Users/laurynas-fp/Code/keturiosakys/structured-dtl/scratch.ipynb#W2sZmlsZQ%3D%3D?line=2'>3</a>\u001b[0m raw_text \u001b[39m=\u001b[39m \u001b[39m\"\u001b[39m\u001b[39mThe video featuring alleged Ukrainian figures in Sudan began circulating online on October 6, 2023. It was subsequently shared by Telegram channels such as Trukha Ukraine and the news website Babel.ua. The latter claimed that sources in the country’s intelligence community had confirmed that the men in the video are Ukrainians fighting against the RSF.\u001b[39m\u001b[39m\"\u001b[39m\n",
      "File \u001b[0;32m~/Library/Caches/pypoetry/virtualenvs/structured-dtl-yygFSkdw-py3.12/lib/python3.12/site-packages/spacy/__init__.py:51\u001b[0m, in \u001b[0;36mload\u001b[0;34m(name, vocab, disable, enable, exclude, config)\u001b[0m\n\u001b[1;32m     27\u001b[0m \u001b[39mdef\u001b[39;00m \u001b[39mload\u001b[39m(\n\u001b[1;32m     28\u001b[0m     name: Union[\u001b[39mstr\u001b[39m, Path],\n\u001b[1;32m     29\u001b[0m     \u001b[39m*\u001b[39m,\n\u001b[0;32m   (...)\u001b[0m\n\u001b[1;32m     34\u001b[0m     config: Union[Dict[\u001b[39mstr\u001b[39m, Any], Config] \u001b[39m=\u001b[39m util\u001b[39m.\u001b[39mSimpleFrozenDict(),\n\u001b[1;32m     35\u001b[0m ) \u001b[39m-\u001b[39m\u001b[39m>\u001b[39m Language:\n\u001b[1;32m     36\u001b[0m \u001b[39m    \u001b[39m\u001b[39m\"\"\"Load a spaCy model from an installed package or a local path.\u001b[39;00m\n\u001b[1;32m     37\u001b[0m \n\u001b[1;32m     38\u001b[0m \u001b[39m    name (str): Package name or model path.\u001b[39;00m\n\u001b[0;32m   (...)\u001b[0m\n\u001b[1;32m     49\u001b[0m \u001b[39m    RETURNS (Language): The loaded nlp object.\u001b[39;00m\n\u001b[1;32m     50\u001b[0m \u001b[39m    \"\"\"\u001b[39;00m\n\u001b[0;32m---> 51\u001b[0m     \u001b[39mreturn\u001b[39;00m util\u001b[39m.\u001b[39;49mload_model(\n\u001b[1;32m     52\u001b[0m         name,\n\u001b[1;32m     53\u001b[0m         vocab\u001b[39m=\u001b[39;49mvocab,\n\u001b[1;32m     54\u001b[0m         disable\u001b[39m=\u001b[39;49mdisable,\n\u001b[1;32m     55\u001b[0m         enable\u001b[39m=\u001b[39;49menable,\n\u001b[1;32m     56\u001b[0m         exclude\u001b[39m=\u001b[39;49mexclude,\n\u001b[1;32m     57\u001b[0m         config\u001b[39m=\u001b[39;49mconfig,\n\u001b[1;32m     58\u001b[0m     )\n",
      "File \u001b[0;32m~/Library/Caches/pypoetry/virtualenvs/structured-dtl-yygFSkdw-py3.12/lib/python3.12/site-packages/spacy/util.py:467\u001b[0m, in \u001b[0;36mload_model\u001b[0;34m(name, vocab, disable, enable, exclude, config)\u001b[0m\n\u001b[1;32m    465\u001b[0m         \u001b[39mreturn\u001b[39;00m load_model_from_package(name, \u001b[39m*\u001b[39m\u001b[39m*\u001b[39mkwargs)  \u001b[39m# type: ignore[arg-type]\u001b[39;00m\n\u001b[1;32m    466\u001b[0m     \u001b[39mif\u001b[39;00m Path(name)\u001b[39m.\u001b[39mexists():  \u001b[39m# path to model data directory\u001b[39;00m\n\u001b[0;32m--> 467\u001b[0m         \u001b[39mreturn\u001b[39;00m load_model_from_path(Path(name), \u001b[39m*\u001b[39;49m\u001b[39m*\u001b[39;49mkwargs)  \u001b[39m# type: ignore[arg-type]\u001b[39;00m\n\u001b[1;32m    468\u001b[0m \u001b[39melif\u001b[39;00m \u001b[39mhasattr\u001b[39m(name, \u001b[39m\"\u001b[39m\u001b[39mexists\u001b[39m\u001b[39m\"\u001b[39m):  \u001b[39m# Path or Path-like to model data\u001b[39;00m\n\u001b[1;32m    469\u001b[0m     \u001b[39mreturn\u001b[39;00m load_model_from_path(name, \u001b[39m*\u001b[39m\u001b[39m*\u001b[39mkwargs)  \u001b[39m# type: ignore[arg-type]\u001b[39;00m\n",
      "File \u001b[0;32m~/Library/Caches/pypoetry/virtualenvs/structured-dtl-yygFSkdw-py3.12/lib/python3.12/site-packages/spacy/util.py:535\u001b[0m, in \u001b[0;36mload_model_from_path\u001b[0;34m(model_path, meta, vocab, disable, enable, exclude, config)\u001b[0m\n\u001b[1;32m    533\u001b[0m     \u001b[39mraise\u001b[39;00m \u001b[39mIOError\u001b[39;00m(Errors\u001b[39m.\u001b[39mE052\u001b[39m.\u001b[39mformat(path\u001b[39m=\u001b[39mmodel_path))\n\u001b[1;32m    534\u001b[0m \u001b[39mif\u001b[39;00m \u001b[39mnot\u001b[39;00m meta:\n\u001b[0;32m--> 535\u001b[0m     meta \u001b[39m=\u001b[39m get_model_meta(model_path)\n\u001b[1;32m    536\u001b[0m config_path \u001b[39m=\u001b[39m model_path \u001b[39m/\u001b[39m \u001b[39m\"\u001b[39m\u001b[39mconfig.cfg\u001b[39m\u001b[39m\"\u001b[39m\n\u001b[1;32m    537\u001b[0m overrides \u001b[39m=\u001b[39m dict_to_dot(config, for_overrides\u001b[39m=\u001b[39m\u001b[39mTrue\u001b[39;00m)\n",
      "File \u001b[0;32m~/Library/Caches/pypoetry/virtualenvs/structured-dtl-yygFSkdw-py3.12/lib/python3.12/site-packages/spacy/util.py:929\u001b[0m, in \u001b[0;36mget_model_meta\u001b[0;34m(path)\u001b[0m\n\u001b[1;32m    923\u001b[0m \u001b[39m\u001b[39m\u001b[39m\"\"\"Get model meta.json from a directory path and validate its contents.\u001b[39;00m\n\u001b[1;32m    924\u001b[0m \n\u001b[1;32m    925\u001b[0m \u001b[39mpath (str / Path): Path to model directory.\u001b[39;00m\n\u001b[1;32m    926\u001b[0m \u001b[39mRETURNS (Dict[str, Any]): The model's meta data.\u001b[39;00m\n\u001b[1;32m    927\u001b[0m \u001b[39m\"\"\"\u001b[39;00m\n\u001b[1;32m    928\u001b[0m model_path \u001b[39m=\u001b[39m ensure_path(path)\n\u001b[0;32m--> 929\u001b[0m \u001b[39mreturn\u001b[39;00m load_meta(model_path \u001b[39m/\u001b[39;49m \u001b[39m\"\u001b[39;49m\u001b[39mmeta.json\u001b[39;49m\u001b[39m\"\u001b[39;49m)\n",
      "File \u001b[0;32m~/Library/Caches/pypoetry/virtualenvs/structured-dtl-yygFSkdw-py3.12/lib/python3.12/site-packages/spacy/util.py:889\u001b[0m, in \u001b[0;36mload_meta\u001b[0;34m(path)\u001b[0m\n\u001b[1;32m    887\u001b[0m     \u001b[39mraise\u001b[39;00m \u001b[39mIOError\u001b[39;00m(Errors\u001b[39m.\u001b[39mE052\u001b[39m.\u001b[39mformat(path\u001b[39m=\u001b[39mpath\u001b[39m.\u001b[39mparent))\n\u001b[1;32m    888\u001b[0m \u001b[39mif\u001b[39;00m \u001b[39mnot\u001b[39;00m path\u001b[39m.\u001b[39mexists() \u001b[39mor\u001b[39;00m \u001b[39mnot\u001b[39;00m path\u001b[39m.\u001b[39mis_file():\n\u001b[0;32m--> 889\u001b[0m     \u001b[39mraise\u001b[39;00m \u001b[39mIOError\u001b[39;00m(Errors\u001b[39m.\u001b[39mE053\u001b[39m.\u001b[39mformat(path\u001b[39m=\u001b[39mpath\u001b[39m.\u001b[39mparent, name\u001b[39m=\u001b[39m\u001b[39m\"\u001b[39m\u001b[39mmeta.json\u001b[39m\u001b[39m\"\u001b[39m))\n\u001b[1;32m    890\u001b[0m meta \u001b[39m=\u001b[39m srsly\u001b[39m.\u001b[39mread_json(path)\n\u001b[1;32m    891\u001b[0m \u001b[39mfor\u001b[39;00m setting \u001b[39min\u001b[39;00m [\u001b[39m\"\u001b[39m\u001b[39mlang\u001b[39m\u001b[39m\"\u001b[39m, \u001b[39m\"\u001b[39m\u001b[39mname\u001b[39m\u001b[39m\"\u001b[39m, \u001b[39m\"\u001b[39m\u001b[39mversion\u001b[39m\u001b[39m\"\u001b[39m]:\n",
      "\u001b[0;31mOSError\u001b[0m: [E053] Could not read meta.json from en_core_web_sm-3.7.0-py3-none-any.whl"
     ]
    }
   ],
   "source": [
    "NLP = spacy.load(\"./en_core_web_sm-3.7.0-py3-none-any.whl\")\n",
    "\n",
    "raw_text = \"The video featuring alleged Ukrainian figures in Sudan began circulating online on October 6, 2023. It was subsequently shared by Telegram channels such as Trukha Ukraine and the news website Babel.ua. The latter claimed that sources in the country’s intelligence community had confirmed that the men in the video are Ukrainians fighting against the RSF.\""
   ]
  },
  {
   "cell_type": "code",
   "execution_count": 19,
   "metadata": {},
   "outputs": [],
   "source": [
    "parsed = NLP(raw_text, disable=[\"parser\"])"
   ]
  },
  {
   "cell_type": "code",
   "execution_count": 20,
   "metadata": {},
   "outputs": [],
   "source": [
    "processed = []\n",
    "for word in parsed.ents:\n",
    "\tif word.label_ == \"GPE\":\n",
    "\t\tparsed_location = { \"text\": word.text, \"pos_start\": word.start_char, \"pos_end\": word.end_char}\n",
    "\t\tprocessed.append(parsed_location)"
   ]
  },
  {
   "cell_type": "code",
   "execution_count": 21,
   "metadata": {},
   "outputs": [
    {
     "data": {
      "text/plain": [
       "'[{\"text\": \"Sudan\", \"pos_start\": 49, \"pos_end\": 54}, {\"text\": \"Babel.ua\", \"pos_start\": 192, \"pos_end\": 200}]'"
      ]
     },
     "execution_count": 21,
     "metadata": {},
     "output_type": "execute_result"
    }
   ],
   "source": [
    "json.dumps(processed)"
   ]
  }
 ],
 "metadata": {
  "kernelspec": {
   "display_name": "structured-dtl-yygFSkdw-py3.12",
   "language": "python",
   "name": "python3"
  },
  "language_info": {
   "codemirror_mode": {
    "name": "ipython",
    "version": 3
   },
   "file_extension": ".py",
   "mimetype": "text/x-python",
   "name": "python",
   "nbconvert_exporter": "python",
   "pygments_lexer": "ipython3",
   "version": "3.12.0"
  }
 },
 "nbformat": 4,
 "nbformat_minor": 2
}
